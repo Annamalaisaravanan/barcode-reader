{
 "cells": [
  {
   "cell_type": "markdown",
   "metadata": {},
   "source": [
    "# barcode reader"
   ]
  },
  {
   "cell_type": "code",
   "execution_count": 1,
   "metadata": {},
   "outputs": [],
   "source": [
    "from barcode import EAN13"
   ]
  },
  {
   "cell_type": "code",
   "execution_count": 47,
   "metadata": {},
   "outputs": [],
   "source": [
    "product_dict = {\n",
    "                \"b'8901491503044'\":{'name':'lays(tomato)','price':10,'quantity':65},\n",
    "                \"b'8901491503037'\":{'name':'lays(green)','price':10,'quantity':65},\n",
    "                \"b'8901063029231'\":{'name':'jimjam','price':20,'quantity':250},\n",
    "                \"b'9010630292318'\":{'name':'milk bikies','price':25,'quantity':500}\n",
    "               }"
   ]
  },
  {
   "cell_type": "code",
   "execution_count": 48,
   "metadata": {},
   "outputs": [
    {
     "name": "stdout",
     "output_type": "stream",
     "text": [
      "b'8901491503044'\n",
      "b'8901491503037'\n",
      "b'8901063029231'\n",
      "b'9010630292318'\n"
     ]
    }
   ],
   "source": [
    "for i in product_dict:\n",
    "      print(i)"
   ]
  },
  {
   "cell_type": "code",
   "execution_count": 52,
   "metadata": {},
   "outputs": [
    {
     "name": "stdout",
     "output_type": "stream",
     "text": [
      "The product is not found in the inventory  b'4902430844567'\n"
     ]
    }
   ],
   "source": [
    "# Importing library\n",
    "import cv2\n",
    "from pyzbar.pyzbar import decode\n",
    "\n",
    "# Make one method to decode the barcode\n",
    "def BarcodeReader(image):\n",
    "\n",
    "    # read the image in numpy array using cv2\n",
    "    img = cv2.imread(image)\n",
    "\n",
    "    # Decode the barcode image\n",
    "    detectedBarcodes = decode(img)\n",
    "  \n",
    "    # If not detected then print the message\n",
    "    if not detectedBarcodes:\n",
    "        print(\"Barcode Not Detected or your barcode is blank/corrupted!\")\n",
    "    else:\n",
    "\n",
    "        # Traverse through all the detected barcodes in image\n",
    "        for barcode in detectedBarcodes:\n",
    "\n",
    "            \n",
    "            (x, y, w, h) = barcode.rect\n",
    "\n",
    "            # Put the rectangle in image using\n",
    "            # cv2 to heighlight the barcode\n",
    "            cv2.rectangle(img, (x-10, y-10),\n",
    "            (x + w+10, y + h+10),\n",
    "            (255, 0, 0), 2)\n",
    "            if barcode.data!=\"\":\n",
    "\n",
    "                    # Print the barcode data\n",
    "                    #print(barcode.data)\n",
    "                    #print(f\"{str(barcode.data)}\")\n",
    "                    try:\n",
    "                            print(product_dict[f\"{str(barcode.data)}\"])\n",
    "                            print(barcode.type)\n",
    "                    \n",
    "                    except KeyError:\n",
    "                          print(\"The product is not found in the inventory \", barcode.data)\n",
    "                    \n",
    "                            \n",
    "                    \n",
    "\n",
    "\n",
    "    #Display the image\n",
    "    cv2.imshow(\"Image\", img)\n",
    "    cv2.waitKey(0)\n",
    "    cv2.destroyAllWindows()\n",
    "\n",
    "if __name__ == \"__main__\":\n",
    "# Take the image from user\n",
    "    image=\"shampoo.png\"\n",
    "    BarcodeReader(image)\n"
   ]
  },
  {
   "cell_type": "markdown",
   "metadata": {},
   "source": [
    "# barcode generator\n"
   ]
  },
  {
   "cell_type": "code",
   "execution_count": null,
   "metadata": {},
   "outputs": [],
   "source": [
    "from barcode.writer import SVGWriter\n",
    "\n",
    "import barcode\n",
    "from barcode.writer import ImageWriter\n",
    "\n",
    "EAN = barcode.get_barcode_class('ean13')\n",
    "my_ean = EAN('5901234123457', writer=ImageWriter())\n",
    "fullname = my_ean.save('ean13_barcode')\n",
    "\n",
    "from io import BytesIO\n",
    "fp = BytesIO()\n",
    "my_ean.write(fp)\n",
    "\n",
    "with open(\"/content/file.txt\", \"wb\") as f:\n",
    "       my_ean.write(f)  # Pillow (ImageWriter) produces RAW format here\n",
    "\n",
    "from barcode import generate\n",
    "name = generate('EAN13', '5901234123457',output='barcode')"
   ]
  }
 ],
 "metadata": {
  "kernelspec": {
   "display_name": "Python 3",
   "language": "python",
   "name": "python3"
  },
  "language_info": {
   "codemirror_mode": {
    "name": "ipython",
    "version": 3
   },
   "file_extension": ".py",
   "mimetype": "text/x-python",
   "name": "python",
   "nbconvert_exporter": "python",
   "pygments_lexer": "ipython3",
   "version": "3.8.5"
  }
 },
 "nbformat": 4,
 "nbformat_minor": 4
}
